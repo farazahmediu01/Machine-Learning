{
 "cells": [
  {
   "cell_type": "markdown",
   "metadata": {},
   "source": [
    "see corelation and covarience in statistic playlist\n",
    "# Seaborn Tutorial\n",
    "- Seaborn provide us lots of statistical tools which help us to understand more about the data.\n",
    "- In supervised machine learning, in a data-set we have featues like f1, f2, f3, f4, f5 , ..., so based on the classification and regression problem we have to divide our data-set into dependent and independent featues. \n",
    "- The dependnt featues is what we want to compute the results for, is based on independent featues.\n",
    "- In Univariat Analysis we only consider one featue.\n",
    "- When compairing 2 featues we have to plot a two dimensional plot to see the relationship between two featues and their behavior and that's we called Bivariat Analysis.\n",
    "- Univariat and Bivariat Analysis can easily done with Seaborn.\n",
    "\n",
    "### Topics we cover in this tutorial\n",
    "For doing analysis of more than two featues we have some plots below which can be plotted with the help of Seaborn.\n",
    "\n",
    "- Featues is known as Heatmap in Seaborn.\n",
    "- Distplot.\n",
    "- Jointplot help us in conducting Bivariat Analysis.\n",
    "- Pairplot help us to visualise the relationship between more than two featues.\n",
    "- Corelation Heatmap"
   ]
  },
  {
   "cell_type": "code",
   "execution_count": 2,
   "metadata": {},
   "outputs": [],
   "source": [
    "import pandas as pd\n",
    "import seaborn as sns"
   ]
  },
  {
   "cell_type": "code",
   "execution_count": 5,
   "metadata": {},
   "outputs": [],
   "source": [
    "data = {\n",
    "    \"total_bil\": [16.99,10.34,21.01,23.68,24.59],\n",
    "    \"tip\": [1.01,1.66,3.50,3.31,3.61],\n",
    "    \"sex\": ['Female','Male', 'Male', 'Male', 'Female'],\n",
    "    \"smoker\": 'No',\n",
    "    \"day\": 'Sun',\n",
    "    \"time\": 'Dinner',\n",
    "    \"size\": [2,3,3,2,4]\n",
    "}"
   ]
  },
  {
   "cell_type": "code",
   "execution_count": 7,
   "metadata": {},
   "outputs": [],
   "source": [
    "# sns_df = sns.load_dataset(data)"
   ]
  },
  {
   "cell_type": "code",
   "execution_count": 9,
   "metadata": {},
   "outputs": [
    {
     "output_type": "execute_result",
     "data": {
      "text/plain": "   total_bil   tip     sex smoker  day    time  size\n0      16.99  1.01  Female     No  Sun  Dinner     2\n1      10.34  1.66    Male     No  Sun  Dinner     3\n2      21.01  3.50    Male     No  Sun  Dinner     3\n3      23.68  3.31    Male     No  Sun  Dinner     2\n4      24.59  3.61  Female     No  Sun  Dinner     4",
      "text/html": "<div>\n<style scoped>\n    .dataframe tbody tr th:only-of-type {\n        vertical-align: middle;\n    }\n\n    .dataframe tbody tr th {\n        vertical-align: top;\n    }\n\n    .dataframe thead th {\n        text-align: right;\n    }\n</style>\n<table border=\"1\" class=\"dataframe\">\n  <thead>\n    <tr style=\"text-align: right;\">\n      <th></th>\n      <th>total_bil</th>\n      <th>tip</th>\n      <th>sex</th>\n      <th>smoker</th>\n      <th>day</th>\n      <th>time</th>\n      <th>size</th>\n    </tr>\n  </thead>\n  <tbody>\n    <tr>\n      <th>0</th>\n      <td>16.99</td>\n      <td>1.01</td>\n      <td>Female</td>\n      <td>No</td>\n      <td>Sun</td>\n      <td>Dinner</td>\n      <td>2</td>\n    </tr>\n    <tr>\n      <th>1</th>\n      <td>10.34</td>\n      <td>1.66</td>\n      <td>Male</td>\n      <td>No</td>\n      <td>Sun</td>\n      <td>Dinner</td>\n      <td>3</td>\n    </tr>\n    <tr>\n      <th>2</th>\n      <td>21.01</td>\n      <td>3.50</td>\n      <td>Male</td>\n      <td>No</td>\n      <td>Sun</td>\n      <td>Dinner</td>\n      <td>3</td>\n    </tr>\n    <tr>\n      <th>3</th>\n      <td>23.68</td>\n      <td>3.31</td>\n      <td>Male</td>\n      <td>No</td>\n      <td>Sun</td>\n      <td>Dinner</td>\n      <td>2</td>\n    </tr>\n    <tr>\n      <th>4</th>\n      <td>24.59</td>\n      <td>3.61</td>\n      <td>Female</td>\n      <td>No</td>\n      <td>Sun</td>\n      <td>Dinner</td>\n      <td>4</td>\n    </tr>\n  </tbody>\n</table>\n</div>"
     },
     "metadata": {},
     "execution_count": 9
    }
   ],
   "source": [
    "df = pd.DataFrame(data)\n",
    "df"
   ]
  },
  {
   "cell_type": "code",
   "execution_count": 10,
   "metadata": {
    "tags": []
   },
   "outputs": [
    {
     "output_type": "stream",
     "name": "stdout",
     "text": "['Female', 'Male', 'Male', 'Male', 'Female']\n"
    }
   ],
   "source": [
    "print(data['sex'])"
   ]
  },
  {
   "cell_type": "code",
   "execution_count": 14,
   "metadata": {},
   "outputs": [
    {
     "data": {
      "text/plain": [
       "<seaborn.axisgrid.JointGrid at 0x9fd2b50>"
      ]
     },
     "execution_count": 14,
     "metadata": {},
     "output_type": "execute_result"
    },
    {
     "data": {
      "image/png": "[encoded data removed]",
      "text/plain": [
       "<Figure size 432x432 with 3 Axes>"
      ]
     },
     "metadata": {
      "needs_background": "light"
     },
     "output_type": "display_data"
    }
   ],
   "source": [
    "sns.jointplot(df['age'], df['py-score'])"
   ]
  },
  {
   "source": [
    "### Correlation in Heatmap\n",
    "A Correlation heatmap uses colored cells map\n",
    "- Correlation help us to find out the interrelation between all the features\n",
    "- Correlation is only found out when the values are either integers or floating point.\n",
    "- When ever we apply correlation make sure value will be ranging between -1 to +1 and that specifically called coofficient correlation."
   ],
   "cell_type": "markdown",
   "metadata": {}
  },
  {
   "cell_type": "code",
   "execution_count": 13,
   "metadata": {},
   "outputs": [
    {
     "output_type": "execute_result",
     "data": {
      "text/plain": "total_bil    float64\ntip          float64\nsex           object\nsmoker        object\nday           object\ntime          object\nsize           int64\ndtype: object"
     },
     "metadata": {},
     "execution_count": 13
    }
   ],
   "source": [
    "df.dtypes"
   ]
  },
  {
   "cell_type": "code",
   "execution_count": 12,
   "metadata": {},
   "outputs": [
    {
     "output_type": "execute_result",
     "data": {
      "text/plain": "           total_bil       tip      size\ntotal_bil   1.000000  0.791002  0.166315\ntip         0.791002  1.000000  0.475753\nsize        0.166315  0.475753  1.000000",
      "text/html": "<div>\n<style scoped>\n    .dataframe tbody tr th:only-of-type {\n        vertical-align: middle;\n    }\n\n    .dataframe tbody tr th {\n        vertical-align: top;\n    }\n\n    .dataframe thead th {\n        text-align: right;\n    }\n</style>\n<table border=\"1\" class=\"dataframe\">\n  <thead>\n    <tr style=\"text-align: right;\">\n      <th></th>\n      <th>total_bil</th>\n      <th>tip</th>\n      <th>size</th>\n    </tr>\n  </thead>\n  <tbody>\n    <tr>\n      <th>total_bil</th>\n      <td>1.000000</td>\n      <td>0.791002</td>\n      <td>0.166315</td>\n    </tr>\n    <tr>\n      <th>tip</th>\n      <td>0.791002</td>\n      <td>1.000000</td>\n      <td>0.475753</td>\n    </tr>\n    <tr>\n      <th>size</th>\n      <td>0.166315</td>\n      <td>0.475753</td>\n      <td>1.000000</td>\n    </tr>\n  </tbody>\n</table>\n</div>"
     },
     "metadata": {},
     "execution_count": 12
    }
   ],
   "source": [
    "# to find the corelation we type this code.\n",
    "df.corr()"
   ]
  },
  {
   "cell_type": "code",
   "execution_count": null,
   "metadata": {},
   "outputs": [],
   "source": []
  },
  {
   "cell_type": "code",
   "execution_count": null,
   "metadata": {},
   "outputs": [],
   "source": []
  },
  {
   "cell_type": "code",
   "execution_count": null,
   "metadata": {},
   "outputs": [],
   "source": []
  },
  {
   "cell_type": "code",
   "execution_count": null,
   "metadata": {},
   "outputs": [],
   "source": []
  },
  {
   "cell_type": "code",
   "execution_count": null,
   "metadata": {},
   "outputs": [],
   "source": []
  }
 ],
 "metadata": {
  "kernelspec": {
   "display_name": "Python 3.7.6 32-bit ('base': conda)",
   "language": "python",
   "name": "python37632bitbasecondaa1eee7eec51f40349b82479978c693a7"
  },
  "language_info": {
   "codemirror_mode": {
    "name": "ipython",
    "version": 3
   },
   "file_extension": ".py",
   "mimetype": "text/x-python",
   "name": "python",
   "nbconvert_exporter": "python",
   "pygments_lexer": "ipython3",
   "version": "3.7.6-final"
  }
 },
 "nbformat": 4,
 "nbformat_minor": 4
}