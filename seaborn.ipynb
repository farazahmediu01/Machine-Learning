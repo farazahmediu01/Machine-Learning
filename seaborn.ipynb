{
 "cells": [
  {
   "source": [
    "# Seaborn Tutorial\n",
    "- Seaborn provide us lots of statistical tools which help us to understand more about the data.\n",
    "- In supervised learning, whenever we get a data set\n",
    "\n",
    "\n",
    "### Topics we cover in this tutorial\n",
    "- Distplot\n",
    "- Jointplot\n",
    "- Pairplot"
   ],
   "cell_type": "markdown",
   "metadata": {}
  },
  {
   "cell_type": "code",
   "execution_count": null,
   "metadata": {},
   "outputs": [],
   "source": []
  }
 ],
 "metadata": {},
 "nbformat": 4,
 "nbformat_minor": 4
}