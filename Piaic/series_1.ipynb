{
 "cells": [
  {
   "cell_type": "markdown",
   "metadata": {},
   "source": [
    "# Pandas Series\n",
    "### Topics Covered\n",
    "- Installation\n",
    "- Books recommandation \"Python For Data Analysis\" starting from chapter 5.1\n",
    "- Introducing Series in Pandas \n",
    "- Pandas Serires vs NumPy array vs Python List.\n",
    "    - Pandas serire have one dimensional data with lables and name which is not avaible in array and list.\n",
    "- Making a series and in next lectue giving custom indexes to series\n",
    "- Object data type we can store any thing in it other then numbers\n",
    "- Giving name to Series object in part 3"
   ]
  },
  {
   "cell_type": "code",
   "execution_count": 12,
   "metadata": {},
   "outputs": [],
   "source": [
    "import pandas as pd\n",
    "import numpy as np"
   ]
  },
  {
   "cell_type": "code",
   "execution_count": 2,
   "metadata": {},
   "outputs": [],
   "source": [
    "apples = [3,2,0,1]\n",
    "ds = pd.Series(apples, name=\"apples\")"
   ]
  },
  {
   "cell_type": "code",
   "execution_count": 3,
   "metadata": {},
   "outputs": [
    {
     "data": {
      "text/plain": [
       "0    3\n",
       "1    2\n",
       "2    0\n",
       "3    1\n",
       "Name: apples, dtype: int64"
      ]
     },
     "execution_count": 3,
     "metadata": {},
     "output_type": "execute_result"
    }
   ],
   "source": [
    "ds"
   ]
  },
  {
   "cell_type": "code",
   "execution_count": 6,
   "metadata": {},
   "outputs": [
    {
     "data": {
      "text/plain": [
       "4"
      ]
     },
     "execution_count": 6,
     "metadata": {},
     "output_type": "execute_result"
    }
   ],
   "source": [
    "ds.count()"
   ]
  },
  {
   "cell_type": "code",
   "execution_count": 15,
   "metadata": {},
   "outputs": [],
   "source": [
    "data = np.array([22, 23, 24, 19, 12, 15, 5], dtype=\"int32\")\n",
    "labels = ['mon', 'tue', 'wed', 'thurs', 'fri','sat', 'sun']\n",
    "obj = pd.Series(data, index=labels, name='sandwithes_sold')"
   ]
  },
  {
   "cell_type": "code",
   "execution_count": 16,
   "metadata": {},
   "outputs": [
    {
     "data": {
      "text/plain": [
       "mon      22\n",
       "tue      23\n",
       "wed      24\n",
       "thurs    19\n",
       "fri      12\n",
       "sat      15\n",
       "sun       5\n",
       "Name: sandwithes_sold, dtype: int32"
      ]
     },
     "execution_count": 16,
     "metadata": {},
     "output_type": "execute_result"
    }
   ],
   "source": [
    "obj"
   ]
  },
  {
   "cell_type": "code",
   "execution_count": 25,
   "metadata": {},
   "outputs": [
    {
     "name": "stdout",
     "output_type": "stream",
     "text": [
      "sandwithes_sold 1\n",
      "22 2\n",
      "22 3\n",
      "mon    22\n",
      "sun     5\n",
      "Name: sandwithes_sold, dtype: int32 4\n",
      "mon      22\n",
      "tue      23\n",
      "wed      24\n",
      "thurs    19\n",
      "Name: sandwithes_sold, dtype: int32 5\n",
      "mon    22\n",
      "fri    12\n",
      "Name: sandwithes_sold, dtype: int32 6\n",
      "mon      22\n",
      "tue      23\n",
      "wed      24\n",
      "thurs    19\n",
      "fri      12\n",
      "sat      15\n",
      "sun       5\n",
      "Name: sandwithes_sold, dtype: int32 7\n"
     ]
    }
   ],
   "source": [
    "print(obj.name,1)\n",
    "print(obj.mon,2)\n",
    "print(obj[0],3)\n",
    "print(obj[[0,6]],4)\n",
    "print(obj[0:4],5 )\n",
    "print(obj[['mon','fri']],6)\n",
    "print(obj['mon':],7) "
   ]
  },
  {
   "cell_type": "code",
   "execution_count": 26,
   "metadata": {},
   "outputs": [
    {
     "name": "stdout",
     "output_type": "stream",
     "text": [
      "mon    22\n",
      "sun     5\n",
      "Name: sandwithes_sold, dtype: int32 4\n"
     ]
    }
   ],
   "source": [
    "print(obj[[0,6]],4)"
   ]
  },
  {
   "cell_type": "code",
   "execution_count": null,
   "metadata": {},
   "outputs": [],
   "source": []
  }
 ],
 "metadata": {
  "kernelspec": {
   "display_name": "Python 3.7.6 32-bit ('base': conda)",
   "language": "python",
   "name": "python37632bitbasecondaa1eee7eec51f40349b82479978c693a7"
  },
  "language_info": {
   "codemirror_mode": {
    "name": "ipython",
    "version": 3
   },
   "file_extension": ".py",
   "mimetype": "text/x-python",
   "name": "python",
   "nbconvert_exporter": "python",
   "pygments_lexer": "ipython3",
   "version": "3.7.6"
  }
 },
 "nbformat": 4,
 "nbformat_minor": 4
}
