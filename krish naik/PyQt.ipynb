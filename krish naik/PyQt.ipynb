{
 "cells": [
  {
   "cell_type": "code",
   "execution_count": 2,
   "metadata": {},
   "outputs": [],
   "source": [
    "import sys\n",
    "\n",
    "from qtpy.QtWidgets import QApplication\n",
    "from qtpy.QtWidgets import QLabel\n",
    "from qtpy.QtWidgets import QWidget\n",
    "\n",
    "# 2. Create an instance of QApplication\n",
    "app = QApplication(sys.argv)\n",
    "\n",
    "# 3. Create an instance of your application's GUI\n",
    "window = QWidget()\n",
    "window.setWindowTitle('PyQt5 App')\n",
    "window.setGeometry(100, 100, 280, 80)\n",
    "window.move(60, 15)\n",
    "helloMsg = QLabel('<h1>Hello World!</h1>', parent=window)\n",
    "helloMsg.move(60, 15)\n",
    "\n",
    "# 4. Show your application's GUI\n",
    "window.show()\n",
    "\n",
    "# 5. Run your application's event loop (or main loop)\n",
    "sys.exit(app.exec_())"
   ]
  }
 ],
 "metadata": {
  "kernelspec": {
   "display_name": "Python 3.7.6 32-bit ('base': conda)",
   "language": "python",
   "name": "python37632bitbasecondaa1eee7eec51f40349b82479978c693a7"
  },
  "language_info": {
   "codemirror_mode": {
    "name": "ipython",
    "version": 3
   },
   "file_extension": ".py",
   "mimetype": "text/x-python",
   "name": "python",
   "nbconvert_exporter": "python",
   "pygments_lexer": "ipython3",
   "version": "3.7.6"
  }
 },
 "nbformat": 4,
 "nbformat_minor": 4
}
