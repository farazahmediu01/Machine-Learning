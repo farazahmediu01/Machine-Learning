{
 "cells": [
  {
   "cell_type": "markdown",
   "metadata": {},
   "source": [
    "# Numpy Tutorial\n",
    "NumPy is a general-purpose array-processing package. It provides a high-performance multidimensional array object, and tools for working with these arrays. It is the fundamental package for scientific computing with Python.\n",
    "\n",
    "## What is an array?\n",
    "An array is a data structure that stores values of same data type. In Python, this is the main difference between arrays and lists. While python lists can contain values corresponding to different data types, arrays in python can only contain values corresponding to same data type.\n",
    "## Why we use array?\n",
    "- Array operations are very very fast.\n",
    "- Most of the time we use two dimentional array in Exploratory Data Analysis.\n",
    "## Topics we cover in this Tutorial\n",
    "1. How to create array?\n",
    "2. How to manipulate or change the shape of array?\n",
    "3. How to retrive the data from array or indexing of array?\n",
    "4. What type of conditions in array?\n",
    "5. What type arithmetic operations in array?\n",
    "6. Some importent methods of Numpy."
   ]
  },
  {
   "cell_type": "code",
   "execution_count": 1,
   "metadata": {},
   "outputs": [],
   "source": [
    "# Lets import numpy module and give it a short discriptive name 'np'.\n",
    "import numpy as np"
   ]
  },
  {
   "cell_type": "markdown",
   "metadata": {},
   "source": [
    "## 1. Array Creation\n",
    "- <b>arange()</b>\n",
    "    - arange() is a builtin numpy method use to generate array just like range() function. Where range() function returns a list object and np.arange() method returns an array object.\n",
    "   \n",
    "    - First three commonly use parameters of arange() method are np.arange(Start,Stop,Step).\n",
    "   \n",
    "    - If you only put one parameter that means np.arange(Stop).\n",
    "\n",
    "- <b>array()</b>\n",
    "    - array() is a builtin numpy method to convert different data types like lits, tupli, etc into array."
   ]
  },
  {
   "cell_type": "code",
   "execution_count": 29,
   "metadata": {
    "tags": []
   },
   "outputs": [
    {
     "name": "stdout",
     "output_type": "stream",
     "text": [
      "\n",
      "array_1\n",
      " [ 0  1  2  3  4  5  6  7  8  9 10 11 12 13 14 15 16 17 18 19 20 21 22 23\n",
      " 24 25 26 27 28 29 30 31 32 33 34 35 36 37 38 39 40 41 42 43 44 45 46 47\n",
      " 48 49 50 51 52 53 54 55 56 57 58 59 60 61 62 63 64 65 66 67 68 69 70 71\n",
      " 72 73 74 75 76 77 78 79 80 81 82 83 84 85 86 87 88 89 90 91 92 93 94 95\n",
      " 96 97 98 99]\n",
      "\n",
      "array_2\n",
      " [ 1  2  3  4  5  6  7  8  9 10 11 12 13 14 15 16 17 18 19 20]\n",
      "\n",
      "array_3\n",
      " [10 20 30 40 50 60 70 80 90]\n"
     ]
    },
    {
     "data": {
      "text/plain": [
       "array([ 0,  1,  2,  3,  4,  5,  6,  7,  8,  9, 10, 11, 12, 13, 14, 15, 16,\n",
       "       17, 18, 19, 20, 21, 22, 23, 24, 25, 26, 27, 28, 29, 30, 31, 32, 33,\n",
       "       34, 35, 36, 37, 38, 39, 40, 41, 42, 43, 44, 45, 46, 47, 48, 49, 50,\n",
       "       51, 52, 53, 54, 55, 56, 57, 58, 59, 60, 61, 62, 63, 64, 65, 66, 67,\n",
       "       68, 69, 70, 71, 72, 73, 74, 75, 76, 77, 78, 79, 80, 81, 82, 83, 84,\n",
       "       85, 86, 87, 88, 89, 90, 91, 92, 93, 94, 95, 96, 97, 98, 99])"
      ]
     },
     "execution_count": 29,
     "metadata": {},
     "output_type": "execute_result"
    }
   ],
   "source": [
    "# Generating array by passing starting and ending (but not included) point in numpy arange() method.\n",
    "array_1 = np.arange(100)    \n",
    "array_2 = np.arange(1,21)\n",
    "array_3 = np.arange(10,100,10)\n",
    "\n",
    "print(\"\\narray_1\\n\",array_1)\n",
    "print(\"\\narray_2\\n\",array_2)\n",
    "print(\"\\narray_3\\n\",array_3)\n",
    "array_1"
   ]
  },
  {
   "cell_type": "code",
   "execution_count": 31,
   "metadata": {
    "tags": []
   },
   "outputs": [
    {
     "name": "stdout",
     "output_type": "stream",
     "text": [
      "[1 2 3 4 5]\n",
      "<class 'numpy.ndarray'>\n"
     ]
    }
   ],
   "source": [
    "# Generating one dimentional array by passing a list in numpy array() method.\n",
    "my_list = [1,2,3,4,5]\n",
    "array = np.array(my_list)\n",
    "print(array)\n",
    "print(type(array))"
   ]
  },
  {
   "cell_type": "code",
   "execution_count": 32,
   "metadata": {
    "tags": []
   },
   "outputs": [
    {
     "data": {
      "text/plain": [
       "array([[ 1,  2,  3,  4,  5],\n",
       "       [ 6,  7,  8,  9, 10],\n",
       "       [11, 12, 13, 14, 15]])"
      ]
     },
     "execution_count": 32,
     "metadata": {},
     "output_type": "execute_result"
    }
   ],
   "source": [
    "# Generating two dimentional array by passing three lists in numpy array method. \n",
    "list_1 = [1,2,3,4,5]\n",
    "list_2 = [6,7,8,9,10]\n",
    "list_3 = [11,12,13,14,15]\n",
    "\n",
    "array = np.array([list_1,list_2,list_3])\n",
    "array"
   ]
  },
  {
   "cell_type": "markdown",
   "metadata": {},
   "source": [
    "## 2. Array Manipulation or Shaping\n",
    "- We can check shape of an array by calling <b>shape</b> property.\n",
    "- We can change the shape of an array by calling <b>reshape()</b> method.\n",
    "- </b>reshape()</b> gives a new shape to an array without changing its data."
   ]
  },
  {
   "cell_type": "code",
   "execution_count": null,
   "metadata": {
    "tags": []
   },
   "outputs": [],
   "source": [
    "# We can check shape of an array by calling shape property.\n",
    "print(array.shape)\n",
    "array"
   ]
  },
  {
   "cell_type": "code",
   "execution_count": null,
   "metadata": {},
   "outputs": [],
   "source": [
    "# We can also change the shape of array by calling reshape method. \n",
    "array.reshape(5,3) # 5 x 3 = 15"
   ]
  },
  {
   "cell_type": "code",
   "execution_count": null,
   "metadata": {},
   "outputs": [],
   "source": [
    "# Changing shape from 5x3 to 1x15 but the array will remains two dimentional.\n",
    "array.reshape(1,15)"
   ]
  },
  {
   "cell_type": "code",
   "execution_count": null,
   "metadata": {},
   "outputs": [],
   "source": [
    "# Changing shape from 5x3 to 1x15 but this time array converts to one dimentional.\n",
    "array.reshape(15,)"
   ]
  },
  {
   "cell_type": "code",
   "execution_count": null,
   "metadata": {},
   "outputs": [],
   "source": [
    "# Another way to change the shape of an array.\n",
    "array.shape = (3,5)\n",
    "array"
   ]
  },
  {
   "cell_type": "markdown",
   "metadata": {},
   "source": [
    "## 3. Array Indexing\n",
    "- We use indexing to <b>retrive</b> the data.\n",
    "- We use <b>sub</b> or <b>index</b> operator for data retrival.\n",
    "- The sub operator is denoted by square brackets <b>\"[]\"</b>.\n"
   ]
  },
  {
   "cell_type": "code",
   "execution_count": null,
   "metadata": {},
   "outputs": [],
   "source": [
    "array[1:3,2:4]"
   ]
  },
  {
   "cell_type": "code",
   "execution_count": null,
   "metadata": {},
   "outputs": [],
   "source": [
    "array[1:2,1:-1]"
   ]
  },
  {
   "cell_type": "code",
   "execution_count": null,
   "metadata": {},
   "outputs": [],
   "source": [
    "array = np.array(range(11))"
   ]
  },
  {
   "cell_type": "code",
   "execution_count": null,
   "metadata": {},
   "outputs": [],
   "source": [
    "arr_1 = arr\n",
    "arr_1"
   ]
  },
  {
   "cell_type": "markdown",
   "metadata": {},
   "source": [
    "## 4. Conditions in Array.\n",
    "- Some Important Conditions used in Exploratory Data Analysis.\n",
    "\n",
    "- When condition or arithimetic operation apply on an array without brackets (ie: array > 2) it will give you all True and False values or the values.\n",
    "\n",
    "- When condition apply on an array with brackets (ie: array[array > 2]) it will give you the True values, Make sure you provide the condition not arithomatic operation."
   ]
  },
  {
   "cell_type": "code",
   "execution_count": 60,
   "metadata": {},
   "outputs": [
    {
     "data": {
      "text/plain": [
       "array([ 3,  4,  5,  6,  7,  8,  9, 10, 11, 12, 13, 14])"
      ]
     },
     "execution_count": 60,
     "metadata": {},
     "output_type": "execute_result"
    }
   ],
   "source": [
    "array = np.arange(15).reshape(3,5)\n",
    "array[array > 2]"
   ]
  },
  {
   "cell_type": "code",
   "execution_count": 63,
   "metadata": {
    "tags": []
   },
   "outputs": [
    {
     "name": "stdout",
     "output_type": "stream",
     "text": [
      "[[ 0  1  2  3  4]\n",
      " [ 5  6  7  8  9]\n",
      " [10 11 12 13 14]] array \n",
      "\n",
      "[[ 2  3  4  5  6]\n",
      " [ 7  8  9 10 11]\n",
      " [12 13 14 15 16]] array + 2 \n",
      "\n",
      "[[-2 -1  0  1  2]\n",
      " [ 3  4  5  6  7]\n",
      " [ 8  9 10 11 12]] array - 2 \n",
      "\n",
      "[[ 0  2  4  6  8]\n",
      " [10 12 14 16 18]\n",
      " [20 22 24 26 28]] array * 2 \n",
      "\n",
      "[[0.  0.5 1.  1.5 2. ]\n",
      " [2.5 3.  3.5 4.  4.5]\n",
      " [5.  5.5 6.  6.5 7. ]] array / 2 \n",
      "\n",
      "[[0 1 0 1 0]\n",
      " [1 0 1 0 1]\n",
      " [0 1 0 1 0]] array % 2 \n",
      "\n",
      "[[False False False  True  True]\n",
      " [ True  True  True  True  True]\n",
      " [ True  True  True  True  True]] array > 2 \n",
      "\n",
      "[[ True  True False False False]\n",
      " [False False False False False]\n",
      " [False False False False False]] array < 2 \n",
      "\n"
     ]
    }
   ],
   "source": [
    "val = 2\n",
    "print(array, 'array \\n')\n",
    "print(array + val, 'array + 2 \\n')\n",
    "print(array - val, 'array - 2 \\n')\n",
    "print(array * val, 'array * 2 \\n')\n",
    "print(array / val, 'array / 2 \\n')\n",
    "print(array % val, 'array % 2 \\n')\n",
    "print(array > val, 'array > 2 \\n')\n",
    "print(array < val, 'array < 2 \\n')"
   ]
  },
  {
   "cell_type": "code",
   "execution_count": 75,
   "metadata": {
    "tags": []
   },
   "outputs": [
    {
     "name": "stdout",
     "output_type": "stream",
     "text": [
      "[ 0  2  4  6  8 10 12 14]\t= arr%2 == 0 \n",
      "\n",
      "[ 3  4  5  6  7  8  9 10 11 12 13 14]\t= arr > 2 \n",
      "\n",
      "[ 0  1  2  3  4  6  7  8  9 10 11 12 13 14]\t= arr != 5 \n",
      "\n",
      "[5]\t= arr == 5 \n",
      "\n"
     ]
    }
   ],
   "source": [
    "print(f\"{array[array%2 == 0]}\\t= arr%2 == 0 \\n\")\n",
    "print(f\"{array[array > 2]}\\t= arr > 2 \\n\")\n",
    "print(f\"{array[array != 5]}\\t= arr != 5 \\n\")\n",
    "print(f\"{array[array == 5]}\\t= arr == 5 \\n\")"
   ]
  },
  {
   "cell_type": "markdown",
   "metadata": {},
   "source": [
    "## 5. Arithmatic Operation\n",
    "- Applying arithmatic operation between two arrays."
   ]
  },
  {
   "cell_type": "code",
   "execution_count": null,
   "metadata": {},
   "outputs": [],
   "source": [
    "array_1 = np.arange(10).reshape(2,5)\n",
    "print(array_1)\n",
    "array_2 = np.arange(10).reshape(2,5)\n",
    "print(array_1)"
   ]
  },
  {
   "cell_type": "code",
   "execution_count": null,
   "metadata": {},
   "outputs": [],
   "source": [
    "array_1 * array_2"
   ]
  },
  {
   "cell_type": "code",
   "execution_count": null,
   "metadata": {},
   "outputs": [],
   "source": []
  },
  {
   "cell_type": "code",
   "execution_count": null,
   "metadata": {},
   "outputs": [],
   "source": [
    "arange = np.arange(2,21,2)"
   ]
  },
  {
   "cell_type": "code",
   "execution_count": null,
   "metadata": {},
   "outputs": [],
   "source": [
    "arr"
   ]
  },
  {
   "cell_type": "code",
   "execution_count": null,
   "metadata": {},
   "outputs": [],
   "source": [
    "arr1 = arr[:]\n",
    "print(arr1)"
   ]
  },
  {
   "cell_type": "code",
   "execution_count": null,
   "metadata": {},
   "outputs": [],
   "source": [
    "arr1[3:] = 50\n",
    "print(arr1)"
   ]
  },
  {
   "cell_type": "code",
   "execution_count": null,
   "metadata": {},
   "outputs": [],
   "source": [
    "#copy function and broadcasting.\n",
    "\n",
    "arr[3:]=100"
   ]
  },
  {
   "cell_type": "code",
   "execution_count": null,
   "metadata": {},
   "outputs": [],
   "source": [
    "# Defining the problem\n",
    "arr_1[5:] = 100 # making change in arr_1\n",
    "print(\"arr_1 =\",arr_1)    # arr_1 change\n",
    "print(\"arr_1 =\",arr)      # arr also change"
   ]
  },
  {
   "cell_type": "code",
   "execution_count": null,
   "metadata": {
    "scrolled": true
   },
   "outputs": [],
   "source": [
    "arr"
   ]
  },
  {
   "cell_type": "markdown",
   "metadata": {},
   "source": [
    "## 6. Builtin Methods\n",
    "Following are some importanat builtin methods of numpy.\n",
    "\n",
    "<b>6.1) ones() and zeros()</b>\n",
    "      \n",
    "- ones() creates array where all the elements are one.\n",
    "- zero() creates array where all the elements are zero.\n",
    "\n",
    "<b>6.2) linspace()</b> \n",
    "\n",
    "-  It generate special kind series in which the differnce between all elements is equal.\n",
    "\n",
    "<b>6.3) copy()</b> \n",
    "    \n",
    "-  It is used to copy an arry while assigning one arry form one variable to another, this provide solution of ie:.reference type vs value type, by creating a new memory for copied variable.\n",
    "\n",
    "<b>6.4) np.random.rand(shape)</b>\n",
    "- It creates an array if given shape with random values."
   ]
  },
  {
   "cell_type": "markdown",
   "metadata": {},
   "source": [
    "### 6.1 ones(shape, dtype=float) Method"
   ]
  },
  {
   "cell_type": "code",
   "execution_count": 84,
   "metadata": {
    "tags": []
   },
   "outputs": [
    {
     "name": "stdout",
     "output_type": "stream",
     "text": [
      "[1. 1. 1. 1.]\n",
      "[1 1 1 1]\n",
      "[[1. 1. 1. 1. 1.]\n",
      " [1. 1. 1. 1. 1.]\n",
      " [1. 1. 1. 1. 1.]]\n"
     ]
    }
   ],
   "source": [
    "print(np.ones(4))           # one dimentional array with all floating point ones.\n",
    "print(np.ones(4,dtype=int)) # one dimentional array with all integer ones.\n",
    "print(np.ones((3,5)))       # two dimentional array with 3 raws and 5 columns."
   ]
  },
  {
   "cell_type": "markdown",
   "metadata": {},
   "source": [
    "### 6.1 zeros() Method"
   ]
  },
  {
   "cell_type": "code",
   "execution_count": 85,
   "metadata": {
    "tags": []
   },
   "outputs": [
    {
     "name": "stdout",
     "output_type": "stream",
     "text": [
      "[0. 0. 0. 0.]\n",
      "[0 0 0 0]\n",
      "[[0. 0. 0. 0. 0.]\n",
      " [0. 0. 0. 0. 0.]\n",
      " [0. 0. 0. 0. 0.]]\n"
     ]
    }
   ],
   "source": [
    "print(np.zeros(4))           # one dimentional array with all floating point zeros.\n",
    "print(np.zeros(4,dtype=int)) # one dimentional array with all integer zeros.\n",
    "print(np.zeros((3,5)))       # two dimentional array with 3 raws and 5 columns."
   ]
  },
  {
   "cell_type": "markdown",
   "metadata": {},
   "source": [
    "### 6.2) linspace() Method\n",
    "- The numpy linspace function creates sequences of evenly spaced values within a defined interval.\n",
    "\n",
    "- Elements in an array generated by linspace() are floating points."
   ]
  },
  {
   "cell_type": "code",
   "execution_count": 21,
   "metadata": {
    "tags": []
   },
   "outputs": [
    {
     "name": "stdout",
     "output_type": "stream",
     "text": [
      "[ 10.  20.  30.  40.  50.  60.  70.  80.  90. 100.]\n",
      "<class 'numpy.float64'>\n"
     ]
    }
   ],
   "source": [
    "array = np.linspace(10,100,10) # Start from 10 to 100 with 10 elemets\n",
    "print(array)\n",
    "print(type(array[0]))"
   ]
  },
  {
   "cell_type": "code",
   "execution_count": 19,
   "metadata": {},
   "outputs": [
    {
     "data": {
      "text/plain": [
       "array([  0.        ,   2.04081633,   4.08163265,   6.12244898,\n",
       "         8.16326531,  10.20408163,  12.24489796,  14.28571429,\n",
       "        16.32653061,  18.36734694,  20.40816327,  22.44897959,\n",
       "        24.48979592,  26.53061224,  28.57142857,  30.6122449 ,\n",
       "        32.65306122,  34.69387755,  36.73469388,  38.7755102 ,\n",
       "        40.81632653,  42.85714286,  44.89795918,  46.93877551,\n",
       "        48.97959184,  51.02040816,  53.06122449,  55.10204082,\n",
       "        57.14285714,  59.18367347,  61.2244898 ,  63.26530612,\n",
       "        65.30612245,  67.34693878,  69.3877551 ,  71.42857143,\n",
       "        73.46938776,  75.51020408,  77.55102041,  79.59183673,\n",
       "        81.63265306,  83.67346939,  85.71428571,  87.75510204,\n",
       "        89.79591837,  91.83673469,  93.87755102,  95.91836735,\n",
       "        97.95918367, 100.        ])"
      ]
     },
     "execution_count": 19,
     "metadata": {},
     "output_type": "execute_result"
    }
   ],
   "source": [
    "array = np.linspace(0,100) # The 3rd parameter of linspace() method is by default 50\n",
    "array"
   ]
  },
  {
   "cell_type": "markdown",
   "metadata": {},
   "source": [
    "### 6.3) copy() Method and Brodcasting\n",
    "\n",
    "- Brodcasting means to replace array elements with another serires.\n",
    "\n",
    "- In array we have a concept of refrence type by which two or more variable have same memory locations which make conflict. When we apply brodcasting or any changing to one variable the others will automatically change due to the same memory location.\n",
    "\n",
    "- So we apply copy() method when making copy of one array from one variable to another for resolving the conflict.\n",
    "\n",
    "- Their is also a concept of value type in Python.\n",
    "\n",
    "- Memory location of a variable can be chacked by Python's builtin function \"id()\"."
   ]
  },
  {
   "cell_type": "code",
   "execution_count": 3,
   "metadata": {
    "tags": []
   },
   "outputs": [
    {
     "name": "stdout",
     "output_type": "stream",
     "text": [
      "114900848\n",
      "114900848\n",
      "array_1 = [ 0  1  2  3  4 55 55 55 55 55]\n",
      "array_2 = [ 0  1  2  3  4 55 55 55 55 55]\n"
     ]
    }
   ],
   "source": [
    "# Defining the problem.\n",
    "# Creating two arrays.\n",
    "array_1 = np.arange(10)\n",
    "array_2 = array_1\n",
    "\n",
    "# Both array_1 and array_2 have same memory location.\n",
    "print(id(array_1))\n",
    "print(id(array_2))\n",
    "\n",
    "# Applying broadcasting\n",
    "array_2[5:] = 55                # making change in array_2\n",
    "print(\"array_1 =\",array_1)      # array_2 change\n",
    "print(\"array_2 =\",array_2)      # array_1 also change at this point problem occurs."
   ]
  },
  {
   "cell_type": "code",
   "execution_count": 4,
   "metadata": {
    "tags": []
   },
   "outputs": [
    {
     "name": "stdout",
     "output_type": "stream",
     "text": [
      "114912016\n",
      "114912776\n",
      "array_1 = [0 1 2 3 4 5 6 7 8 9]\n",
      "array_2 = [ 0  1  2  3  4 55 55 55 55 55]\n"
     ]
    }
   ],
   "source": [
    "# Solving the problem with copy() method.\n",
    "array_1 = np.arange(10)\n",
    "\n",
    "# But this time we assign array_1 with copy() method which creates a sperate memery location for array_2 variable.\n",
    "array_2 = array_1.copy() \n",
    "\n",
    "# Now both array_1 and array_2 have different memory locations.\n",
    "print(id(array_1))\n",
    "print(id(array_2))\n",
    "\n",
    "# Applying broadcasting.\n",
    "array_2[5:] = 55                # making change in array_2\n",
    "print(\"array_1 =\",array_1)      # array_2 change\n",
    "print(\"array_2 =\",array_2)      # array_1 does not change :)"
   ]
  },
  {
   "cell_type": "markdown",
   "metadata": {},
   "source": [
    "### 6.4) np.random.rand(shape)\n",
    "- Random values in a given shape. \n",
    "- Create an array of the given shape and populate it with random samples from a uniform distribution over ``[0,  1]``."
   ]
  },
  {
   "cell_type": "code",
   "execution_count": 9,
   "metadata": {},
   "outputs": [
    {
     "data": {
      "text/plain": [
       "array([[0.15296574, 0.53032069, 0.21786706, 0.09897107, 0.63742551],\n",
       "       [0.98334471, 0.18552311, 0.28869148, 0.53071154, 0.14953861]])"
      ]
     },
     "execution_count": 9,
     "metadata": {},
     "output_type": "execute_result"
    }
   ],
   "source": [
    "np.random.rand(2,5) # Every time we got new numbers because this is random."
   ]
  },
  {
   "cell_type": "markdown",
   "metadata": {},
   "source": [
    "### 6.4 np.random.randn(shape)\n",
    "- Return a sample (or samples) from the \"standard normal\" distribution."
   ]
  },
  {
   "cell_type": "code",
   "execution_count": 12,
   "metadata": {},
   "outputs": [
    {
     "data": {
      "text/plain": [
       "array([[ 0.13998714,  0.57143842,  0.154614  , -1.11433299,  0.90914671],\n",
       "       [ 0.50232756,  1.10225284, -0.47788275, -0.62993355, -0.8145318 ]])"
      ]
     },
     "execution_count": 12,
     "metadata": {},
     "output_type": "execute_result"
    }
   ],
   "source": [
    "np.random.randn(2,5)"
   ]
  },
  {
   "cell_type": "code",
   "execution_count": null,
   "metadata": {},
   "outputs": [],
   "source": []
  },
  {
   "cell_type": "code",
   "execution_count": null,
   "metadata": {},
   "outputs": [],
   "source": []
  },
  {
   "cell_type": "code",
   "execution_count": null,
   "metadata": {},
   "outputs": [],
   "source": []
  },
  {
   "cell_type": "code",
   "execution_count": null,
   "metadata": {},
   "outputs": [],
   "source": []
  },
  {
   "cell_type": "code",
   "execution_count": null,
   "metadata": {},
   "outputs": [],
   "source": []
  }
 ],
 "metadata": {
  "kernelspec": {
   "display_name": "Python 3.7.6 32-bit ('base': conda)",
   "language": "python",
   "name": "python37632bitbasecondaa1eee7eec51f40349b82479978c693a7"
  },
  "language_info": {
   "codemirror_mode": {
    "name": "ipython",
    "version": 3
   },
   "file_extension": ".py",
   "mimetype": "text/x-python",
   "name": "python",
   "nbconvert_exporter": "python",
   "pygments_lexer": "ipython3",
   "version": "3.7.6"
  }
 },
 "nbformat": 4,
 "nbformat_minor": 4
}
