{
 "cells": [
  {
   "cell_type": "markdown",
   "metadata": {},
   "source": [
    "# Numpy Tutorial\n",
    "Numpy is a general-purpose array-processing package. It provides a high-performance multidimensional array object, and tools for working with these arrays. It is the fundamental package for scientific computing with Python.\n",
    "\n",
    "## What is an array?\n",
    "An array is a data structure that stores values of same data type. In Python, this is the main difference between arrays and lists. While python lists can contain values corresponding to different data types, arrays in python can only contain values corresponding to same data type.\n",
    "\n",
    "## Why we use array?\n",
    "- Array operations are very very fast.\n",
    "- Most of the time we use two dimentional array in Exploratory Data Analysis.\n",
    "- We use Numpy arrays to quickly train the machine learning model.\n",
    "\n",
    "## Topics we cover in this Tutorial\n",
    "1. How to create array?\n",
    "2. How to manipulate or change the shape of array?\n",
    "3. How to retrive the data from array or indexing of array?\n",
    "4. What type of conditions in array?\n",
    "5. What type of arithmetic operations in array?\n",
    "6. Some important methods of Numpy.\n",
    "7. Random methods in Numpy."
   ]
  },
  {
   "cell_type": "code",
   "execution_count": 3,
   "metadata": {},
   "outputs": [],
   "source": [
    "# First of all lets import numpy module and give it a short discriptive name 'np'.\n",
    "import numpy as np"
   ]
  },
  {
   "cell_type": "markdown",
   "metadata": {},
   "source": [
    "## 1. Array Creation\n",
    "- <b>arange(start, Stop, Step)</b>\n",
    "    - arange() is a builtin numpy method use to generate array just like range() function. Where range() function returns a list object and np.arange() method returns an array object.\n",
    "   \n",
    "    - First three commonly use parameters of arange() method are np.arange(Start,Stop,Step).\n",
    "   \n",
    "    - If you only put one parameter that means np.arange(Stop).\n",
    "\n",
    "- <b>array(data)</b>\n",
    "    - array() is a builtin numpy method to convert different data types like lits, tupli, etc into array."
   ]
  },
  {
   "cell_type": "code",
   "execution_count": null,
   "metadata": {
    "tags": []
   },
   "outputs": [],
   "source": [
    "# Generating array by passing starting and ending (but not included) points in numpy arange() method.\n",
    "array_1 = np.arange(100)    \n",
    "array_2 = np.arange(1,21)\n",
    "array_3 = np.arange(10,100,10)\n",
    "\n",
    "print(\"\\narray_1\\n\",array_1)\n",
    "print(\"\\narray_2\\n\",array_2)\n",
    "print(\"\\narray_3\\n\",array_3)\n",
    "array_1"
   ]
  },
  {
   "cell_type": "code",
   "execution_count": null,
   "metadata": {
    "tags": []
   },
   "outputs": [],
   "source": [
    "# Generating one dimentional array by passing a list in numpy array() method.\n",
    "my_list = [1,2,3,4,5]\n",
    "array = np.array(my_list)\n",
    "print(array)\n",
    "print(type(array))"
   ]
  },
  {
   "cell_type": "code",
   "execution_count": null,
   "metadata": {
    "tags": []
   },
   "outputs": [],
   "source": [
    "# Generating two dimentional array by passing three lists in numpy array method. \n",
    "list_1 = [1,2,3,4,5]\n",
    "list_2 = [6,7,8,9,10]\n",
    "list_3 = [11,12,13,14,15]\n",
    "\n",
    "array = np.array([list_1,list_2,list_3])\n",
    "array"
   ]
  },
  {
   "cell_type": "markdown",
   "metadata": {},
   "source": [
    "## 2. Array Manipulation or Shaping.\n",
    "\n",
    "- There are arrays of multiple shapes.\n",
    "\n",
    "- We can check shape of an array by calling <b>shape</b> property.\n",
    "\n",
    "- We can change the shape of an array by calling <b>reshape()</b> method.\n",
    "\n",
    "- </b>reshape()</b> gives a new shape to an array without changing its data.\n",
    "\n",
    "- It is just a handy way to make a difference between array of different dimensions by looking at the brackets of an array for example. \n",
    "    - One dimensional array have single starting and closing bracket '[1,2,3,...,n\\]'\n",
    "    - Two dimensional array have double starting and closing bracket '[[1,2,3,...,n\\]\\]'\n",
    "    - <b>Note</b> this is just a tric and not always work in every condition."
   ]
  },
  {
   "cell_type": "code",
   "execution_count": 30,
   "metadata": {
    "tags": []
   },
   "outputs": [
    {
     "output_type": "stream",
     "name": "stdout",
     "text": "One dimentional array is shown as '(15,)'.\n"
    },
    {
     "output_type": "execute_result",
     "data": {
      "text/plain": "array([ 0,  1,  2,  3,  4,  5,  6,  7,  8,  9, 10, 11, 12, 13, 14])"
     },
     "metadata": {},
     "execution_count": 30
    }
   ],
   "source": [
    "# We can check shape of an array by calling shape property.\n",
    "array = np.arange(15)\n",
    "print(f\"One dimentional array is shown as '{array.shape}'.\")\n",
    "array"
   ]
  },
  {
   "cell_type": "code",
   "execution_count": 31,
   "metadata": {},
   "outputs": [
    {
     "output_type": "execute_result",
     "data": {
      "text/plain": "array([[ 0,  1,  2],\n       [ 3,  4,  5],\n       [ 6,  7,  8],\n       [ 9, 10, 11],\n       [12, 13, 14]])"
     },
     "metadata": {},
     "execution_count": 31
    }
   ],
   "source": [
    "# We can also change the shape of array by calling reshape method. \n",
    "array.reshape(5,3)  # 5 x 3 = 15"
   ]
  },
  {
   "cell_type": "code",
   "execution_count": 44,
   "metadata": {
    "tags": []
   },
   "outputs": [
    {
     "output_type": "stream",
     "name": "stdout",
     "text": "[[ 0  1  2  3  4  5  6  7  8  9 10 11 12 13 14]]\n\nThis looks like one dimensional array but it is two dimensional array, looks at the double brakets.\n\nThe shape of this array is 1 raw and 15 columns (1, 15).\n"
    }
   ],
   "source": [
    "# Changing shape from 5x3 to 1x15 but the array will remains two dimentional.\n",
    "array = array.reshape(1,15)\n",
    "print(array)\n",
    "\n",
    "print(\"\\nThis looks like one dimensional array but it is two dimensional array, looks at the double brakets.\\n\")\n",
    "print(f\"The shape of this array is 1 raw and 15 columns {array.shape}.\")"
   ]
  },
  {
   "cell_type": "code",
   "execution_count": null,
   "metadata": {},
   "outputs": [],
   "source": [
    "# Changing shape from 5x3 to 1x15 but this time array converts to one dimentional.\n",
    "array.reshape(15,)"
   ]
  },
  {
   "cell_type": "code",
   "execution_count": null,
   "metadata": {},
   "outputs": [],
   "source": [
    "# Another way to change the shape of an array.\n",
    "array.shape = (3,5)\n",
    "array"
   ]
  },
  {
   "cell_type": "markdown",
   "metadata": {},
   "source": [
    "## 3. Array Indexing\n",
    "- We use indexing to <b>retrive</b> the data.\n",
    "- We use <b>sub</b> or <b>index</b> operator for data retrival.\n",
    "- The sub operator is denoted by square brackets <b>\"[]\"</b>.\n"
   ]
  },
  {
   "cell_type": "code",
   "execution_count": 4,
   "metadata": {},
   "outputs": [
    {
     "output_type": "execute_result",
     "data": {
      "text/plain": "array([[ 0,  1,  2,  3,  4],\n       [ 5,  6,  7,  8,  9],\n       [10, 11, 12, 13, 14]])"
     },
     "metadata": {},
     "execution_count": 4
    }
   ],
   "source": [
    "array = np.arange(15).reshape(3,5)\n",
    "array"
   ]
  },
  {
   "cell_type": "code",
   "execution_count": null,
   "metadata": {},
   "outputs": [],
   "source": [
    "# 1:3 selecting raw from index \"1\" to index \"3\" but not including 3.\n",
    "# 2:4 selecting column from index \"2\" to index \"4\" but not including 4.\n",
    "array[1:3,2:4] "
   ]
  },
  {
   "cell_type": "code",
   "execution_count": null,
   "metadata": {},
   "outputs": [],
   "source": [
    "array[1:2,1:-1]"
   ]
  },
  {
   "cell_type": "markdown",
   "metadata": {},
   "source": [
    "## 4. Conditions in Array.\n",
    "- Some Important Conditions used in Exploratory Data Analysis.\n",
    "\n",
    "- When condition or arithimetic operation apply on an array without brackets (ie: array > 2) it will give you all True and False values or the values.\n",
    "\n",
    "- When condition apply on an array with brackets (ie: array\\[array > 2\\]) it will give you the True values, Make sure you provide the condition not arithomatic operation."
   ]
  },
  {
   "cell_type": "code",
   "execution_count": null,
   "metadata": {},
   "outputs": [],
   "source": [
    "array = np.arange(15).reshape(3,5)\n",
    "array[array > 2]"
   ]
  },
  {
   "cell_type": "code",
   "execution_count": null,
   "metadata": {
    "tags": []
   },
   "outputs": [],
   "source": [
    "val = 2\n",
    "print(array, 'array \\n')\n",
    "print(array + val, 'array + 2 \\n')\n",
    "print(array - val, 'array - 2 \\n')\n",
    "print(array * val, 'array * 2 \\n')\n",
    "print(array / val, 'array / 2 \\n')\n",
    "print(array % val, 'array % 2 \\n')\n",
    "print(array > val, 'array > 2 \\n')\n",
    "print(array < val, 'array < 2 \\n')"
   ]
  },
  {
   "cell_type": "code",
   "execution_count": null,
   "metadata": {
    "tags": []
   },
   "outputs": [],
   "source": [
    "print(f\"{array[array%2 == 0]}\\t= arr%2 == 0 \\n\")\n",
    "print(f\"{array[array > 2]}\\t= arr > 2 \\n\")\n",
    "print(f\"{array[array != 5]}\\t= arr != 5 \\n\")\n",
    "print(f\"{array[array == 5]}\\t= arr == 5 \\n\")"
   ]
  },
  {
   "cell_type": "markdown",
   "metadata": {},
   "source": [
    "## 5. Arithmatic Operation\n",
    "- Applying arithmatic operation between two arrays."
   ]
  },
  {
   "cell_type": "code",
   "execution_count": 18,
   "metadata": {
    "tags": []
   },
   "outputs": [
    {
     "output_type": "stream",
     "name": "stdout",
     "text": "[[ 2  4  6  8 10]\n [12 14 16 18 20]] \n\n[[ 3  6  9 12 15]\n [18 21 24 27 30]]\n"
    }
   ],
   "source": [
    "array_1 = np.arange(2,21,2).reshape(2,5)\n",
    "print(array_1,'\\n')\n",
    "array_2 = np.arange(3,31,3).reshape(2,5)\n",
    "print(array_2)"
   ]
  },
  {
   "cell_type": "code",
   "execution_count": 21,
   "metadata": {},
   "outputs": [
    {
     "output_type": "execute_result",
     "data": {
      "text/plain": "array([[ 5, 10, 15, 20, 25],\n       [30, 35, 40, 45, 50]])"
     },
     "metadata": {},
     "execution_count": 21
    }
   ],
   "source": [
    "array_1 + array_2"
   ]
  },
  {
   "cell_type": "code",
   "execution_count": 26,
   "metadata": {},
   "outputs": [
    {
     "output_type": "execute_result",
     "data": {
      "text/plain": "array([[ 1,  2,  3,  4,  5],\n       [ 6,  7,  8,  9, 10]])"
     },
     "metadata": {},
     "execution_count": 26
    }
   ],
   "source": [
    "array_2 - array_1"
   ]
  },
  {
   "cell_type": "code",
   "execution_count": 19,
   "metadata": {},
   "outputs": [
    {
     "output_type": "execute_result",
     "data": {
      "text/plain": "array([[  6,  24,  54,  96, 150],\n       [216, 294, 384, 486, 600]])"
     },
     "metadata": {},
     "execution_count": 19
    }
   ],
   "source": [
    "array_1 * array_2"
   ]
  },
  {
   "cell_type": "code",
   "execution_count": 24,
   "metadata": {},
   "outputs": [
    {
     "output_type": "execute_result",
     "data": {
      "text/plain": "array([[1.5, 1.5, 1.5, 1.5, 1.5],\n       [1.5, 1.5, 1.5, 1.5, 1.5]])"
     },
     "metadata": {},
     "execution_count": 24
    }
   ],
   "source": [
    "array_2 / array_1"
   ]
  },
  {
   "cell_type": "code",
   "execution_count": 20,
   "metadata": {},
   "outputs": [
    {
     "output_type": "execute_result",
     "data": {
      "text/plain": "array([[ 2,  4,  6,  8, 10],\n       [12, 14, 16, 18, 20]], dtype=int32)"
     },
     "metadata": {},
     "execution_count": 20
    }
   ],
   "source": [
    "array_1 % array_2"
   ]
  },
  {
   "cell_type": "markdown",
   "metadata": {},
   "source": [
    "## 6. Builtin Methods\n",
    "Following are some importanat builtin methods of numpy.\n",
    "\n",
    "<b>6.1) ones() and zeros()</b>\n",
    "      \n",
    "- ones() creates array where all the elements are one.\n",
    "- zero() creates array where all the elements are zero.\n",
    "\n",
    "<b>6.2) linspace()</b> \n",
    "\n",
    "-  It generate special kind series in which the differnce between all elements is equal.\n",
    "\n",
    "<b>6.3) copy()</b> \n",
    "    \n",
    "-  It is used to copy an arry while assigning one arry form one variable to another, this provide solution of ie:.reference type vs value type, by creating a new memory for copied variable.\n",
    "\n"
   ]
  },
  {
   "cell_type": "markdown",
   "metadata": {},
   "source": [
    "### 6.1 ones(shape, dtype=float) Method"
   ]
  },
  {
   "cell_type": "code",
   "execution_count": null,
   "metadata": {
    "tags": []
   },
   "outputs": [],
   "source": [
    "print(np.ones(4))           # one dimentional array with all floating point ones.\n",
    "print(np.ones(4,dtype=int)) # one dimentional array with all integer ones.\n",
    "print(np.ones((3,5)))       # two dimentional array with 3 raws and 5 columns."
   ]
  },
  {
   "cell_type": "markdown",
   "metadata": {},
   "source": [
    "### 6.1 zeros() Method"
   ]
  },
  {
   "cell_type": "code",
   "execution_count": null,
   "metadata": {
    "tags": []
   },
   "outputs": [],
   "source": [
    "print(np.zeros(4))           # one dimentional array with all floating point zeros.\n",
    "print(np.zeros(4,dtype=int)) # one dimentional array with all integer zeros.\n",
    "print(np.zeros((3,5)))       # two dimentional array with 3 raws and 5 columns."
   ]
  },
  {
   "cell_type": "markdown",
   "metadata": {},
   "source": [
    "### 6.2) linspace() Method\n",
    "- The numpy linspace function creates sequences of evenly spaced values within a defined interval.\n",
    "\n",
    "- Elements in an array generated by linspace() are floating points."
   ]
  },
  {
   "cell_type": "code",
   "execution_count": null,
   "metadata": {
    "tags": []
   },
   "outputs": [],
   "source": [
    "array = np.linspace(10,100,10) # Start from 10 to 100 with 10 elemets\n",
    "print(array)\n",
    "print(type(array[0]))"
   ]
  },
  {
   "cell_type": "code",
   "execution_count": null,
   "metadata": {},
   "outputs": [],
   "source": [
    "array = np.linspace(0,100) # The 3rd parameter of linspace() method is by default 50\n",
    "array"
   ]
  },
  {
   "cell_type": "markdown",
   "metadata": {},
   "source": [
    "### 6.3) copy() Method and Brodcasting\n",
    "\n",
    "- Brodcasting means to replace array elements with another serires.\n",
    "\n",
    "- In array we have a concept of refrence type by which two or more variable have same memory locations which make conflict. When we apply brodcasting or any changing to one variable the others will automatically change due to the same memory location.\n",
    "\n",
    "- So we apply copy() method when making copy of one array from one variable to another for resolving the conflict.\n",
    "\n",
    "- Their is also a concept of value type in Python.\n",
    "\n",
    "- Memory location of a variable can be chacked by Python's builtin function \"id()\"."
   ]
  },
  {
   "cell_type": "code",
   "execution_count": null,
   "metadata": {
    "tags": []
   },
   "outputs": [],
   "source": [
    "# Defining the problem.\n",
    "# Creating two arrays.\n",
    "array_1 = np.arange(10)\n",
    "array_2 = array_1\n",
    "\n",
    "# Both array_1 and array_2 have same memory location.\n",
    "print(id(array_1))\n",
    "print(id(array_2))\n",
    "\n",
    "# Applying broadcasting\n",
    "array_2[5:] = 55                # making change in array_2\n",
    "print(\"array_1 =\",array_1)      # array_2 change\n",
    "print(\"array_2 =\",array_2)      # array_1 also change at this point problem occurs."
   ]
  },
  {
   "cell_type": "code",
   "execution_count": null,
   "metadata": {
    "tags": []
   },
   "outputs": [],
   "source": [
    "# Solving the problem with copy() method.\n",
    "array_1 = np.arange(10)\n",
    "\n",
    "# But this time we assign array_1 with copy() method which creates a sperate memery location for array_2 variable.\n",
    "array_2 = array_1.copy() \n",
    "\n",
    "# Now both array_1 and array_2 have different memory locations.\n",
    "print(id(array_1))\n",
    "print(id(array_2))\n",
    "\n",
    "# Applying broadcasting.\n",
    "array_2[5:] = 55                # making change in array_2\n",
    "print(\"array_1 =\",array_1)      # array_2 change\n",
    "print(\"array_2 =\",array_2)      # array_1 does not change :)"
   ]
  },
  {
   "cell_type": "markdown",
   "metadata": {},
   "source": [
    "## 7 Numpy Random Methods.\n",
    "\n",
    "<b> 7.1) np.random.rand(shape)</b>\n",
    "- It creates an array if given shape with random values.\n",
    "\n",
    "<b> 7.2) np.random.randn(shape)</b>\n",
    "- It creates an array if given shape with random values.\n",
    "\n",
    "<b> 7.3) np.random.randint(shape)</b>\n",
    "- It creates an array if given shape with random values.\n",
    "\n"
   ]
  },
  {
   "cell_type": "markdown",
   "metadata": {},
   "source": [
    "### 7.1) np.random.rand(shape)\n",
    "- Random values in a given shape. \n",
    "- Create an array of the given shape and populate it with random samples from a uniform distribution over ``[0,  1]``."
   ]
  },
  {
   "cell_type": "code",
   "execution_count": null,
   "metadata": {},
   "outputs": [],
   "source": [
    "np.random.rand(2,5) # Every time we got new numbers because this is random."
   ]
  },
  {
   "cell_type": "markdown",
   "metadata": {},
   "source": [
    "### 7.2 np.random.randn(shape)\n",
    "- Return a sample (or samples) from the \"standard normal\" distribution."
   ]
  },
  {
   "cell_type": "code",
   "execution_count": null,
   "metadata": {},
   "outputs": [],
   "source": [
    "np.random.randn(2,5)"
   ]
  },
  {
   "cell_type": "markdown",
   "metadata": {},
   "source": [
    "### 7.3 np.random.randint()\n",
    "\n",
    "- it generate array between lower value and higher value and fill randomly with integers"
   ]
  },
  {
   "cell_type": "code",
   "execution_count": null,
   "metadata": {},
   "outputs": [],
   "source": [
    "np.random.randint(0,50,7)"
   ]
  },
  {
   "cell_type": "code",
   "execution_count": null,
   "metadata": {},
   "outputs": [],
   "source": []
  },
  {
   "cell_type": "code",
   "execution_count": null,
   "metadata": {},
   "outputs": [],
   "source": []
  },
  {
   "cell_type": "code",
   "execution_count": null,
   "metadata": {},
   "outputs": [],
   "source": []
  }
 ],
 "metadata": {
  "kernelspec": {
   "display_name": "Python 3.7.6 32-bit ('base': conda)",
   "language": "python",
   "name": "python37632bitbasecondaa1eee7eec51f40349b82479978c693a7"
  },
  "language_info": {
   "codemirror_mode": {
    "name": "ipython",
    "version": 3
   },
   "file_extension": ".py",
   "mimetype": "text/x-python",
   "name": "python",
   "nbconvert_exporter": "python",
   "pygments_lexer": "ipython3",
   "version": "3.7.6-final"
  }
 },
 "nbformat": 4,
 "nbformat_minor": 4
}