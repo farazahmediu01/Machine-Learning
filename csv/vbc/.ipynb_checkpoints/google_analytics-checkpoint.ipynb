{
 "cells": [
  {
   "cell_type": "code",
   "execution_count": 1,
   "metadata": {},
   "outputs": [],
   "source": [
    "import pandas as pd"
   ]
  },
  {
   "cell_type": "code",
   "execution_count": 3,
   "metadata": {},
   "outputs": [
    {
     "name": "stderr",
     "output_type": "stream",
     "text": [
      "b'Skipping line 3: expected 6 fields, saw 10\\nSkipping line 5: expected 6 fields, saw 7\\nSkipping line 7: expected 6 fields, saw 7\\n'\n"
     ]
    },
    {
     "data": {
      "text/html": [
       "<div>\n",
       "<style scoped>\n",
       "    .dataframe tbody tr th:only-of-type {\n",
       "        vertical-align: middle;\n",
       "    }\n",
       "\n",
       "    .dataframe tbody tr th {\n",
       "        vertical-align: top;\n",
       "    }\n",
       "\n",
       "    .dataframe thead th {\n",
       "        text-align: right;\n",
       "    }\n",
       "</style>\n",
       "<table border=\"1\" class=\"dataframe\">\n",
       "  <thead>\n",
       "    <tr style=\"text-align: right;\">\n",
       "      <th></th>\n",
       "      <th>0</th>\n",
       "      <th>1</th>\n",
       "      <th>2</th>\n",
       "      <th>3</th>\n",
       "      <th>4</th>\n",
       "      <th>5</th>\n",
       "    </tr>\n",
       "  </thead>\n",
       "  <tbody>\n",
       "    <tr>\n",
       "      <th>0</th>\n",
       "      <td>Start</td>\n",
       "      <td>Introduction</td>\n",
       "      <td>to</td>\n",
       "      <td>Analytics</td>\n",
       "      <td>(31-07-20)</td>\n",
       "      <td>(15:43)</td>\n",
       "    </tr>\n",
       "    <tr>\n",
       "      <th>1</th>\n",
       "      <td>NaN</td>\n",
       "      <td>NaN</td>\n",
       "      <td>NaN</td>\n",
       "      <td>NaN</td>\n",
       "      <td>NaN</td>\n",
       "      <td>NaN</td>\n",
       "    </tr>\n",
       "    <tr>\n",
       "      <th>2</th>\n",
       "      <td>NaN</td>\n",
       "      <td>NaN</td>\n",
       "      <td>NaN</td>\n",
       "      <td>NaN</td>\n",
       "      <td>NaN</td>\n",
       "      <td>NaN</td>\n",
       "    </tr>\n",
       "    <tr>\n",
       "      <th>3</th>\n",
       "      <td>NaN</td>\n",
       "      <td>NaN</td>\n",
       "      <td>NaN</td>\n",
       "      <td>NaN</td>\n",
       "      <td>NaN</td>\n",
       "      <td>NaN</td>\n",
       "    </tr>\n",
       "    <tr>\n",
       "      <th>4</th>\n",
       "      <td>NaN</td>\n",
       "      <td>NaN</td>\n",
       "      <td>NaN</td>\n",
       "      <td>NaN</td>\n",
       "      <td>NaN</td>\n",
       "      <td>NaN</td>\n",
       "    </tr>\n",
       "    <tr>\n",
       "      <th>5</th>\n",
       "      <td>Start</td>\n",
       "      <td>Campaign</td>\n",
       "      <td>Tracking</td>\n",
       "      <td>(13:52)</td>\n",
       "      <td>NaN</td>\n",
       "      <td>NaN</td>\n",
       "    </tr>\n",
       "    <tr>\n",
       "      <th>6</th>\n",
       "      <td>NaN</td>\n",
       "      <td>NaN</td>\n",
       "      <td>NaN</td>\n",
       "      <td>NaN</td>\n",
       "      <td>NaN</td>\n",
       "      <td>NaN</td>\n",
       "    </tr>\n",
       "    <tr>\n",
       "      <th>7</th>\n",
       "      <td>Start</td>\n",
       "      <td>Goals</td>\n",
       "      <td>and</td>\n",
       "      <td>Conversions</td>\n",
       "      <td>(10:40)</td>\n",
       "      <td>NaN</td>\n",
       "    </tr>\n",
       "    <tr>\n",
       "      <th>8</th>\n",
       "      <td>NaN</td>\n",
       "      <td>NaN</td>\n",
       "      <td>NaN</td>\n",
       "      <td>NaN</td>\n",
       "      <td>NaN</td>\n",
       "      <td>NaN</td>\n",
       "    </tr>\n",
       "    <tr>\n",
       "      <th>9</th>\n",
       "      <td>Start</td>\n",
       "      <td>Glossary-Top</td>\n",
       "      <td>50</td>\n",
       "      <td>Terms</td>\n",
       "      <td>to</td>\n",
       "      <td>Know</td>\n",
       "    </tr>\n",
       "  </tbody>\n",
       "</table>\n",
       "</div>"
      ],
      "text/plain": [
       "       0             1         2            3           4        5\n",
       "0  Start  Introduction        to    Analytics  (31-07-20)  (15:43)\n",
       "1    NaN           NaN       NaN          NaN         NaN      NaN\n",
       "2    NaN           NaN       NaN          NaN         NaN      NaN\n",
       "3    NaN           NaN       NaN          NaN         NaN      NaN\n",
       "4    NaN           NaN       NaN          NaN         NaN      NaN\n",
       "5  Start      Campaign  Tracking      (13:52)         NaN      NaN\n",
       "6    NaN           NaN       NaN          NaN         NaN      NaN\n",
       "7  Start         Goals       and  Conversions     (10:40)      NaN\n",
       "8    NaN           NaN       NaN          NaN         NaN      NaN\n",
       "9  Start  Glossary-Top        50        Terms          to     Know"
      ]
     },
     "execution_count": 3,
     "metadata": {},
     "output_type": "execute_result"
    }
   ],
   "source": [
    "\n",
    "\n",
    "df = pd.read_csv(\"google_analytics.txt\", sep=' ', header=None, error_bad_lines=False)\n",
    "df"
   ]
  },
  {
   "cell_type": "code",
   "execution_count": 3,
   "metadata": {},
   "outputs": [
    {
     "name": "stdout",
     "output_type": "stream",
     "text": [
      "Start Introduction to Analytics (31-07-20) (15:43)\n",
      " \n",
      "Start Set up google analytics for your website (30-07-20) (14:32)\n",
      " \n",
      "Start Analyze different types of reporting (23:45)\n",
      " \n",
      "Start Learn about segments and dimensions (10:57)\n",
      " \n",
      "Start Campaign Tracking (13:52)\n",
      " \n",
      "Start Goals and Conversions (10:40)\n",
      " \n",
      "Start Glossary-Top 50 Terms to Know"
     ]
    }
   ],
   "source": [
    "url = r\"E:\\Project\\Anaconda\\csv\\vbc\\google_analytics.txt\"\n",
    "\n",
    "with open(url, 'r') as file_handle:\n",
    "    for line in file_handle:\n",
    "         print(line, end=\"\")"
   ]
  },
  {
   "cell_type": "code",
   "execution_count": 9,
   "metadata": {},
   "outputs": [
    {
     "name": "stdout",
     "output_type": "stream",
     "text": [
      "Start Introduction to Analytics (31-07-20) (15:43)\n",
      "index =  46\n",
      "\n",
      "index =  -1\n",
      "Start Set up google analytics for your website (30-07-20) (14:32)\n",
      "index =  61\n",
      "\n",
      "index =  -1\n",
      "Start Analyze different types of reporting (23:45)\n",
      "index =  46\n",
      "\n",
      "index =  -1\n",
      "Start Learn about segments and dimensions (10:57)\n",
      "index =  45\n",
      "\n",
      "index =  -1\n",
      "Start Campaign Tracking (13:52)\n",
      "index =  27\n",
      "\n",
      "index =  -1\n",
      "Start Goals and Conversions (10:40)\n",
      "index =  31\n",
      "\n",
      "index =  -1\n",
      "Start Glossary-Top 50 Terms to Know\n",
      "index =  -1\n"
     ]
    }
   ],
   "source": [
    "url = r\"E:\\Project\\Anaconda\\csv\\vbc\\google_analytics.txt\"\n",
    "\n",
    "with open(url, 'r') as file_handle:\n",
    "    for line in file_handle:\n",
    "        \n",
    "        line = line.rstrip()\n",
    "        if  line:\n",
    "            index = line.find(':')\n",
    "        \n",
    "            print(line)\n",
    "#         print(line[-5:-2])\n",
    "            print(\"index = \",index)\n",
    "        \n",
    "        print(\"False\")\n"
   ]
  },
  {
   "cell_type": "code",
   "execution_count": 13,
   "metadata": {},
   "outputs": [
    {
     "name": "stdout",
     "output_type": "stream",
     "text": [
      "Start Introduction to Analytics (31-07-20) (15:43)\n",
      "index =  46\n",
      "Start Set up google analytics for your website (30-07-20) (14:32)\n",
      "index =  61\n",
      "Start Analyze different types of reporting (23:45)\n",
      "index =  46\n",
      "Start Learn about segments and dimensions (10:57)\n",
      "index =  45\n",
      "Start Campaign Tracking (13:52)\n",
      "index =  27\n",
      "Start Goals and Conversions (10:40)\n",
      "index =  31\n",
      "Start Glossary-Top 50 Terms to Know\n",
      "index =  -1\n"
     ]
    }
   ],
   "source": [
    "url = r\"E:\\Project\\Anaconda\\csv\\vbc\\google_analytics.txt\"\n",
    "\n",
    "with open(url, 'r') as file_handle:\n",
    "    for line in file_handle:\n",
    "        \n",
    "        line = line.rstrip()\n",
    "        if  line:\n",
    "            mid = line.find(':')\n",
    "            end = line.find(')', mid)\n",
    "        \n",
    "            print(line)\n",
    "#         print(line[-5:-2])\n",
    "            print(\"index = \",index)\n",
    "            \n"
   ]
  },
  {
   "cell_type": "code",
   "execution_count": 5,
   "metadata": {},
   "outputs": [
    {
     "data": {
      "text/plain": [
       "3"
      ]
     },
     "execution_count": 5,
     "metadata": {},
     "output_type": "execute_result"
    }
   ],
   "source": [
    "s = \"(15:43)\"\n",
    "s.find(\":\")"
   ]
  },
  {
   "cell_type": "code",
   "execution_count": 10,
   "metadata": {},
   "outputs": [
    {
     "name": "stdout",
     "output_type": "stream",
     "text": [
      "\n",
      "\n",
      "\n",
      "L\n"
     ]
    }
   ],
   "source": [
    "print(\"\")\n",
    "print(\"\")\n",
    "print(\"\")\n",
    "print(\"L\")"
   ]
  },
  {
   "cell_type": "code",
   "execution_count": 34,
   "metadata": {},
   "outputs": [],
   "source": [
    "line = \"Start Introduction to Analytics (31-07-20) (15:43)\"\n",
    "mid = line.find(':')\n",
    "end = line.find(')', mid)\n",
    "start = line.rfind( \")\", mid)"
   ]
  },
  {
   "cell_type": "code",
   "execution_count": 35,
   "metadata": {},
   "outputs": [
    {
     "data": {
      "text/plain": [
       "49"
      ]
     },
     "execution_count": 35,
     "metadata": {},
     "output_type": "execute_result"
    }
   ],
   "source": [
    "start"
   ]
  },
  {
   "cell_type": "code",
   "execution_count": 44,
   "metadata": {},
   "outputs": [
    {
     "data": {
      "text/plain": [
       "'Start Introduction to Analytics (31-07-20) (15:43)'"
      ]
     },
     "execution_count": 44,
     "metadata": {},
     "output_type": "execute_result"
    }
   ],
   "source": [
    "line"
   ]
  },
  {
   "cell_type": "code",
   "execution_count": 51,
   "metadata": {},
   "outputs": [
    {
     "data": {
      "text/plain": [
       "6"
      ]
     },
     "execution_count": 51,
     "metadata": {},
     "output_type": "execute_result"
    }
   ],
   "source": [
    "line.rfind('In',0 ,19)"
   ]
  },
  {
   "cell_type": "code",
   "execution_count": 50,
   "metadata": {},
   "outputs": [
    {
     "data": {
      "text/plain": [
       "16"
      ]
     },
     "execution_count": 50,
     "metadata": {},
     "output_type": "execute_result"
    }
   ],
   "source": [
    "s = \"Hello, I am 12! I like plankton but I don't like Baseball.\"\n",
    "index = 34 #points to the 't' in 'but'\n",
    "index_of_2nd_I = s.rfind('I', 0, index)\n",
    "\n",
    "index_of_2nd_I\n"
   ]
  },
  {
   "cell_type": "code",
   "execution_count": 39,
   "metadata": {},
   "outputs": [
    {
     "data": {
      "text/plain": [
       "7"
      ]
     },
     "execution_count": 39,
     "metadata": {},
     "output_type": "execute_result"
    }
   ],
   "source": [
    "# 1st I = 7\n",
    "# 2nd I = 16\n",
    "# 3rd I\n",
    "\n",
    "s = \"Hello, I am 12! I like plankton but I don't like Baseball.\"\n",
    "index = 34 #points to the 't' in 'but'\n",
    "index_of_2nd_I = s.find('I', 0, index)\n",
    "index_of_2nd_I"
   ]
  },
  {
   "cell_type": "code",
   "execution_count": 54,
   "metadata": {},
   "outputs": [
    {
     "data": {
      "text/plain": [
       "'I'"
      ]
     },
     "execution_count": 54,
     "metadata": {},
     "output_type": "execute_result"
    }
   ],
   "source": []
  },
  {
   "cell_type": "code",
   "execution_count": 57,
   "metadata": {},
   "outputs": [
    {
     "data": {
      "text/plain": [
       "'(15:43'"
      ]
     },
     "execution_count": 57,
     "metadata": {},
     "output_type": "execute_result"
    }
   ],
   "source": [
    "line[-7:-1]"
   ]
  },
  {
   "cell_type": "code",
   "execution_count": 4,
   "metadata": {},
   "outputs": [],
   "source": [
    "import re"
   ]
  },
  {
   "cell_type": "code",
   "execution_count": 115,
   "metadata": {},
   "outputs": [
    {
     "name": "stdout",
     "output_type": "stream",
     "text": [
      "Start Introduction to Analytics (31-0720) (15:43)\n",
      "['15:43']\n",
      "(15, 43)\n",
      "Start Set up google analytics for your website (30:07-20) (14:32)\n",
      "['14:32']\n",
      "(14, 32)\n",
      "Start Analyze different types of reporting (213:415)\n",
      "['213:415']\n",
      "(213, 415)\n",
      "Start Learn about segments and dimensions (0010:57)\n",
      "['0010:57']\n",
      "(10, 57)\n",
      "Start Campaign Tracking (13:522)\n",
      "['13:522']\n",
      "(13, 522)\n",
      "Start Goals and Conversions (10:40)\n",
      "['10:40']\n",
      "(10, 40)\n",
      "Start Glossary-Top 50 Terms to Know\n",
      "[]\n",
      "[(15, 43), (14, 32), (213, 415), (10, 57), (13, 522), (10, 40)]\n"
     ]
    }
   ],
   "source": [
    "time_series = list()\n",
    "\n",
    "with open(url) as file_handle:\n",
    "    for line in file_handle:\n",
    "        line = line.rstrip()\n",
    "        if line:   \n",
    "            print(line)\n",
    "            extracted_string = re.findall('[(]([0-9]+[:][0-9]+)[)]', line)\n",
    "            print(extracted_string)\n",
    "            if extracted_string:\n",
    "                converted_value = str_to_int_convertion(extracted_string)\n",
    "                print(converted_value)\n",
    "                time_series.append(converted_value)\n",
    "print(time_series)"
   ]
  },
  {
   "cell_type": "code",
   "execution_count": 109,
   "metadata": {},
   "outputs": [
    {
     "name": "stdout",
     "output_type": "stream",
     "text": [
      "['14:32']\n",
      "['14', '32']\n",
      "[14, 32]\n"
     ]
    }
   ],
   "source": [
    "chunk = time_series[1]\n",
    "print(chunk)\n",
    "str_to_list = chunk[0].split(':')\n",
    "print(str_to_list)\n",
    "# str_list_to_int_list\n",
    "str_to_list[0] = int(str_to_list[0])\n",
    "str_to_list[1] = int(str_to_list[1])\n",
    "print(str_to_list)\n",
    "# chunk[0].replace(\":\", \",\")\n",
    "# tup = tuple(chunk)\n",
    "# tup"
   ]
  },
  {
   "cell_type": "code",
   "execution_count": 105,
   "metadata": {},
   "outputs": [
    {
     "name": "stdout",
     "output_type": "stream",
     "text": [
      "['45:123,3']\n",
      "['45', '123,3']\n",
      "45\n"
     ]
    },
    {
     "ename": "ValueError",
     "evalue": "invalid literal for int() with base 10: '123,3'",
     "output_type": "error",
     "traceback": [
      "\u001b[1;31m---------------------------------------------------------------------------\u001b[0m",
      "\u001b[1;31mValueError\u001b[0m                                Traceback (most recent call last)",
      "\u001b[1;32m<ipython-input-105-e77175711b4f>\u001b[0m in \u001b[0;36m<module>\u001b[1;34m\u001b[0m\n\u001b[0;32m     14\u001b[0m     \u001b[1;32mreturn\u001b[0m \u001b[0mstr_to_int\u001b[0m\u001b[1;33m\u001b[0m\u001b[1;33m\u001b[0m\u001b[0m\n\u001b[0;32m     15\u001b[0m \u001b[1;33m\u001b[0m\u001b[0m\n\u001b[1;32m---> 16\u001b[1;33m \u001b[0mprint\u001b[0m\u001b[1;33m(\u001b[0m\u001b[0mstr_to_int_convertion\u001b[0m\u001b[1;33m(\u001b[0m\u001b[1;33m[\u001b[0m\u001b[1;34m'45:123,3'\u001b[0m\u001b[1;33m]\u001b[0m\u001b[1;33m)\u001b[0m\u001b[1;33m)\u001b[0m\u001b[1;33m\u001b[0m\u001b[1;33m\u001b[0m\u001b[0m\n\u001b[0m",
      "\u001b[1;32m<ipython-input-105-e77175711b4f>\u001b[0m in \u001b[0;36mstr_to_int_convertion\u001b[1;34m(list_, split_list, str_to_int)\u001b[0m\n\u001b[0;32m     10\u001b[0m     \u001b[0mtype_conversion1\u001b[0m \u001b[1;33m=\u001b[0m \u001b[0mint\u001b[0m\u001b[1;33m(\u001b[0m\u001b[0msplit_list\u001b[0m\u001b[1;33m[\u001b[0m\u001b[1;36m0\u001b[0m\u001b[1;33m]\u001b[0m\u001b[1;33m)\u001b[0m\u001b[1;33m\u001b[0m\u001b[1;33m\u001b[0m\u001b[0m\n\u001b[0;32m     11\u001b[0m     \u001b[0mprint\u001b[0m\u001b[1;33m(\u001b[0m\u001b[0mtype_conversion1\u001b[0m\u001b[1;33m)\u001b[0m\u001b[1;33m\u001b[0m\u001b[1;33m\u001b[0m\u001b[0m\n\u001b[1;32m---> 12\u001b[1;33m     \u001b[0mtype_conversion2\u001b[0m \u001b[1;33m=\u001b[0m \u001b[0mint\u001b[0m\u001b[1;33m(\u001b[0m\u001b[0msplit_list\u001b[0m\u001b[1;33m[\u001b[0m\u001b[1;36m1\u001b[0m\u001b[1;33m]\u001b[0m\u001b[1;33m)\u001b[0m\u001b[1;33m\u001b[0m\u001b[1;33m\u001b[0m\u001b[0m\n\u001b[0m\u001b[0;32m     13\u001b[0m     \u001b[0mstr_to_int\u001b[0m\u001b[1;33m.\u001b[0m\u001b[0mextend\u001b[0m\u001b[1;33m(\u001b[0m\u001b[1;33m[\u001b[0m\u001b[0mtype_conversion1\u001b[0m\u001b[1;33m,\u001b[0m\u001b[0mtype_conversion2\u001b[0m\u001b[1;33m]\u001b[0m\u001b[1;33m)\u001b[0m\u001b[1;33m\u001b[0m\u001b[1;33m\u001b[0m\u001b[0m\n\u001b[0;32m     14\u001b[0m     \u001b[1;32mreturn\u001b[0m \u001b[0mstr_to_int\u001b[0m\u001b[1;33m\u001b[0m\u001b[1;33m\u001b[0m\u001b[0m\n",
      "\u001b[1;31mValueError\u001b[0m: invalid literal for int() with base 10: '123,3'"
     ]
    }
   ],
   "source": [
    "def str_to_int_convertion(list_=None, split_list=None, str_to_int=None):\n",
    "    \"\"\"1) This function get a list of one string element (eg: ['14:32']).\n",
    "    2) It split a string elemnt into two strings elements (eg: ['14', '32']).\n",
    "    3) Lastly it converts string elements into integer elements.[14, 32]\n",
    "    \"\"\"\n",
    "    print(list_)\n",
    "    str_to_int = []\n",
    "    split_list = list_[0].split(':')\n",
    "    print(split_list)\n",
    "    type_conversion1 = int(split_list[0])\n",
    "    print(type_conversion1)\n",
    "    type_conversion2 = int(split_list[1])\n",
    "    str_to_int.extend([type_conversion1,type_conversion2])\n",
    "    return str_to_int\n",
    "\n",
    "print(str_to_int_convertion([]))"
   ]
  },
  {
   "cell_type": "code",
   "execution_count": 91,
   "metadata": {},
   "outputs": [],
   "source": [
    "x = \"My favorite numbers are :12: and *42* 12 24 4\"\n",
    "y = re.findall(\"*.*\" ,x)\n",
    "y"
   ]
  },
  {
   "cell_type": "code",
   "execution_count": 112,
   "metadata": {},
   "outputs": [
    {
     "ename": "IndexError",
     "evalue": "list index out of range",
     "output_type": "error",
     "traceback": [
      "\u001b[1;31m---------------------------------------------------------------------------\u001b[0m",
      "\u001b[1;31mIndexError\u001b[0m                                Traceback (most recent call last)",
      "\u001b[1;32m<ipython-input-112-06e1e6ce510a>\u001b[0m in \u001b[0;36m<module>\u001b[1;34m\u001b[0m\n\u001b[0;32m     14\u001b[0m         \u001b[1;32mreturn\u001b[0m \u001b[0mtuple\u001b[0m\u001b[1;33m(\u001b[0m\u001b[0mstr_to_int\u001b[0m\u001b[1;33m)\u001b[0m  \u001b[1;31m# return tuple\u001b[0m\u001b[1;33m\u001b[0m\u001b[1;33m\u001b[0m\u001b[0m\n\u001b[0;32m     15\u001b[0m \u001b[1;33m\u001b[0m\u001b[0m\n\u001b[1;32m---> 16\u001b[1;33m \u001b[0mprint\u001b[0m\u001b[1;33m(\u001b[0m\u001b[0mstr_to_int_convertion\u001b[0m\u001b[1;33m(\u001b[0m\u001b[1;33m[\u001b[0m\u001b[1;33m]\u001b[0m\u001b[1;33m)\u001b[0m\u001b[1;33m)\u001b[0m\u001b[1;33m\u001b[0m\u001b[1;33m\u001b[0m\u001b[0m\n\u001b[0m",
      "\u001b[1;32m<ipython-input-112-06e1e6ce510a>\u001b[0m in \u001b[0;36mstr_to_int_convertion\u001b[1;34m(list_, split_list, str_to_int)\u001b[0m\n\u001b[0;32m      8\u001b[0m     \u001b[1;32mif\u001b[0m \u001b[0mlist\u001b[0m\u001b[1;33m:\u001b[0m\u001b[1;33m\u001b[0m\u001b[1;33m\u001b[0m\u001b[0m\n\u001b[0;32m      9\u001b[0m         \u001b[0mstr_to_int\u001b[0m \u001b[1;33m=\u001b[0m \u001b[1;33m[\u001b[0m\u001b[1;33m]\u001b[0m\u001b[1;33m\u001b[0m\u001b[1;33m\u001b[0m\u001b[0m\n\u001b[1;32m---> 10\u001b[1;33m         \u001b[0msplit_list\u001b[0m \u001b[1;33m=\u001b[0m \u001b[0mlist_\u001b[0m\u001b[1;33m[\u001b[0m\u001b[1;36m0\u001b[0m\u001b[1;33m]\u001b[0m\u001b[1;33m.\u001b[0m\u001b[0msplit\u001b[0m\u001b[1;33m(\u001b[0m\u001b[1;34m':'\u001b[0m\u001b[1;33m)\u001b[0m       \u001b[1;31m# spliting\u001b[0m\u001b[1;33m\u001b[0m\u001b[1;33m\u001b[0m\u001b[0m\n\u001b[0m\u001b[0;32m     11\u001b[0m         \u001b[0mtype_conversion1\u001b[0m \u001b[1;33m=\u001b[0m \u001b[0mint\u001b[0m\u001b[1;33m(\u001b[0m\u001b[0msplit_list\u001b[0m\u001b[1;33m[\u001b[0m\u001b[1;36m0\u001b[0m\u001b[1;33m]\u001b[0m\u001b[1;33m)\u001b[0m  \u001b[1;31m# type casting\u001b[0m\u001b[1;33m\u001b[0m\u001b[1;33m\u001b[0m\u001b[0m\n\u001b[0;32m     12\u001b[0m         \u001b[0mtype_conversion2\u001b[0m \u001b[1;33m=\u001b[0m \u001b[0mint\u001b[0m\u001b[1;33m(\u001b[0m\u001b[0msplit_list\u001b[0m\u001b[1;33m[\u001b[0m\u001b[1;36m1\u001b[0m\u001b[1;33m]\u001b[0m\u001b[1;33m)\u001b[0m  \u001b[1;31m# type casting\u001b[0m\u001b[1;33m\u001b[0m\u001b[1;33m\u001b[0m\u001b[0m\n",
      "\u001b[1;31mIndexError\u001b[0m: list index out of range"
     ]
    }
   ],
   "source": [
    "# data convertion\n",
    "def str_to_int_convertion(list_=None, split_list=None, str_to_int=None):\n",
    "    \"\"\"1) This function get a list of one string element (eg: ['14:32']).\n",
    "    2) Split a string into two string elements (eg: ['14', '32']).\n",
    "    3) Converts string elements into integer elements.[14, 32]\n",
    "    4) return a tuple (14,32)\n",
    "    \"\"\"\n",
    "    if list:\n",
    "        str_to_int = []\n",
    "        split_list = list_[0].split(':')       # spliting \n",
    "        type_conversion1 = int(split_list[0])  # type casting\n",
    "        type_conversion2 = int(split_list[1])  # type casting\n",
    "        str_to_int.extend([type_conversion1,type_conversion2]) # making list\n",
    "        return tuple(str_to_int)  # return tuple\n",
    "\n",
    "print(str_to_int_convertion([]))"
   ]
  },
  {
   "cell_type": "code",
   "execution_count": null,
   "metadata": {},
   "outputs": [],
   "source": []
  },
  {
   "cell_type": "code",
   "execution_count": null,
   "metadata": {},
   "outputs": [],
   "source": [
    "import re\n",
    "\n",
    "# Global variables\n",
    "url = r\"E:\\Project\\Anaconda\\csv\\vbc\\data\\Virtual_Assistant_(VA)_or_FFL.txt\"\n",
    "time_series = list()\n",
    "\n",
    "# Data type convertion\n",
    "def str_to_int_convertion(list_=None, split_list=None, str_to_int=None):\n",
    "    \"\"\"1) This function get a list of one string element (eg: ['14:32']).\n",
    "    2) Split a string into two string elements (eg: ['14', '32']).\n",
    "    3) Converts string elements into integer elements (eg: [14, 32])\n",
    "    4) return a tuple (eg: (14,32))\"\"\"\n",
    "    str_to_int = []\n",
    "    split_list = list_[0].split(':')       # spliting\n",
    "    type_conversion1 = int(split_list[0])  # type casting\n",
    "    type_conversion2 = int(split_list[1])  # type casting\n",
    "    str_to_int.extend([type_conversion1, type_conversion2])  # making list\n",
    "    return tuple(str_to_int)  # return tuple\n",
    "\n",
    "# Reading file and Data Extraction\n",
    "with open(url) as file_handle:\n",
    "    for line in file_handle:\n",
    "        line = line.rstrip()\n",
    "        if line:\n",
    "            print(line)\n",
    "            extracted_string = re.findall('[(]([0-9]+[:][0-9]+)[)]', line)\n",
    "            print(extracted_string)\n",
    "            if extracted_string:\n",
    "                converted_value = str_to_int_convertion(extracted_string)\n",
    "                print(converted_value)\n",
    "                time_series.append(converted_value)\n",
    "print(time_series)\n"
   ]
  },
  {
   "cell_type": "code",
   "execution_count": null,
   "metadata": {},
   "outputs": [],
   "source": []
  },
  {
   "cell_type": "code",
   "execution_count": null,
   "metadata": {},
   "outputs": [],
   "source": []
  },
  {
   "cell_type": "code",
   "execution_count": null,
   "metadata": {},
   "outputs": [],
   "source": []
  },
  {
   "cell_type": "code",
   "execution_count": 11,
   "metadata": {},
   "outputs": [
    {
     "ename": "TypeError",
     "evalue": "cannot convert dictionary update sequence element #0 to a sequence",
     "output_type": "error",
     "traceback": [
      "\u001b[1;31m---------------------------------------------------------------------------\u001b[0m",
      "\u001b[1;31mTypeError\u001b[0m                                 Traceback (most recent call last)",
      "\u001b[1;32m<ipython-input-11-5933d0ce2c4d>\u001b[0m in \u001b[0;36m<module>\u001b[1;34m\u001b[0m\n\u001b[0;32m      1\u001b[0m \u001b[0mtup\u001b[0m \u001b[1;33m=\u001b[0m \u001b[1;33m(\u001b[0m\u001b[1;36m1\u001b[0m\u001b[1;33m,\u001b[0m\u001b[1;36m30\u001b[0m\u001b[1;33m)\u001b[0m\u001b[1;33m\u001b[0m\u001b[1;33m\u001b[0m\u001b[0m\n\u001b[1;32m----> 2\u001b[1;33m \u001b[0mdict\u001b[0m\u001b[1;33m(\u001b[0m\u001b[0mtup\u001b[0m\u001b[1;33m)\u001b[0m\u001b[1;33m\u001b[0m\u001b[1;33m\u001b[0m\u001b[0m\n\u001b[0m",
      "\u001b[1;31mTypeError\u001b[0m: cannot convert dictionary update sequence element #0 to a sequence"
     ]
    }
   ],
   "source": [
    "tup = (1,30)\n",
    "dict(tup)"
   ]
  },
  {
   "cell_type": "code",
   "execution_count": 15,
   "metadata": {},
   "outputs": [
    {
     "name": "stdout",
     "output_type": "stream",
     "text": [
      "0\n"
     ]
    }
   ],
   "source": [
    "tup = (0,0)\n",
    "def hours_and_minutes_to_total_minutes(hours_and_minutes=None):\n",
    "    \"\"\"\n",
    "    This function get a tuple (eg: (1,30)) which is 1 hour and 30 minutes\n",
    "    and return an integer value 90 because there are 90 minutes in 1 hour \n",
    "    and 30 minutes.\n",
    "    \"\"\"\n",
    "    hours = hours_and_minutes[0]\n",
    "    minutes = hours_and_minutes[1]\n",
    "    total_minutes = (hours * 60) + minutes\n",
    "    return total_minutes\n",
    "print(hours_and_minutes_to_total_minutes(tup))"
   ]
  },
  {
   "cell_type": "code",
   "execution_count": 8,
   "metadata": {},
   "outputs": [
    {
     "ename": "TypeError",
     "evalue": "cannot unpack non-iterable int object",
     "output_type": "error",
     "traceback": [
      "\u001b[1;31m---------------------------------------------------------------------------\u001b[0m",
      "\u001b[1;31mTypeError\u001b[0m                                 Traceback (most recent call last)",
      "\u001b[1;32m<ipython-input-8-43d8267c2ecd>\u001b[0m in \u001b[0;36m<module>\u001b[1;34m\u001b[0m\n\u001b[1;32m----> 1\u001b[1;33m \u001b[1;32mfor\u001b[0m \u001b[0mi\u001b[0m\u001b[1;33m,\u001b[0m\u001b[0mj\u001b[0m \u001b[1;32min\u001b[0m \u001b[1;33m[\u001b[0m\u001b[1;36m1\u001b[0m\u001b[1;33m,\u001b[0m\u001b[1;36m2\u001b[0m\u001b[1;33m]\u001b[0m\u001b[1;33m:\u001b[0m\u001b[1;33m\u001b[0m\u001b[1;33m\u001b[0m\u001b[0m\n\u001b[0m\u001b[0;32m      2\u001b[0m     \u001b[0mprint\u001b[0m\u001b[1;33m(\u001b[0m\u001b[0mi\u001b[0m\u001b[1;33m,\u001b[0m\u001b[0mj\u001b[0m\u001b[1;33m)\u001b[0m\u001b[1;33m\u001b[0m\u001b[1;33m\u001b[0m\u001b[0m\n",
      "\u001b[1;31mTypeError\u001b[0m: cannot unpack non-iterable int object"
     ]
    }
   ],
   "source": [
    "for i,j in [1,2]:\n",
    "    print(i,j)"
   ]
  },
  {
   "cell_type": "code",
   "execution_count": 16,
   "metadata": {},
   "outputs": [
    {
     "name": "stdout",
     "output_type": "stream",
     "text": [
      "(30, 1.0)\n"
     ]
    }
   ],
   "source": [
    "minutes = 90\n",
    "def minutes_to_hours_and_minutes(integer):\n",
    "    minutes = integer % 60\n",
    "    hours = (integer - minutes) / 60\n",
    "    return minutes, hours\n",
    "\n",
    "print(minutes_to_hours_and_minutes(minutes))"
   ]
  },
  {
   "cell_type": "code",
   "execution_count": null,
   "metadata": {},
   "outputs": [],
   "source": [
    "def hours_and_minutes_to_total_minutes(hours_and_minutes=None):\n",
    "    \"\"\"This function get a tuple (eg: (1,30)) which is 1 hour and 30 minutes\n",
    "    and return an integer value 90 because there are 90 minutes in 1 hour \n",
    "    and 30 minutes.\n",
    "    \"\"\"\n",
    "    hours = hours_and_minutes[0]\n",
    "    minutes = hours_and_minutes[1]\n",
    "    total_minutes = (hours * 60) + minutes\n",
    "    return total_minutes"
   ]
  },
  {
   "cell_type": "code",
   "execution_count": 9,
   "metadata": {},
   "outputs": [],
   "source": [
    "def minutes_and_seconds_to_seconds(minutes_and_seconds):\n",
    "    \"\"\"This function get a tuple (eg: (1,30)) which is 1 minute and 30 seconds\n",
    "    and return an integer value 90 because there are 90 seconds in 1 minute \n",
    "    and 30 seconds.\n",
    "    \"\"\"\n",
    "    minutes = minutes_and_seconds[0]\n",
    "    seconds = minutes_and_seconds[1]\n",
    "    total_seconds = (minutes * 60) + seconds\n",
    "    return total_seconds\n"
   ]
  },
  {
   "cell_type": "code",
   "execution_count": 10,
   "metadata": {},
   "outputs": [
    {
     "name": "stdout",
     "output_type": "stream",
     "text": [
      "7481\n"
     ]
    }
   ],
   "source": [
    "tup = (124,41)\n",
    "print(minutes_and_seconds_to_seconds(tup))"
   ]
  },
  {
   "cell_type": "code",
   "execution_count": 11,
   "metadata": {},
   "outputs": [],
   "source": [
    "def count_hours_minutes_seconds(seconds):\n",
    "    '''This function counts how many hours,minutes and seconds\n",
    "    in given number of seconds\n",
    "    '''\n",
    "    hours = seconds // 3600\n",
    "    minutes = (seconds - hours * 3600) // 60\n",
    "    remaining_seconds = seconds - hours * 3600 - minutes * 60\n",
    "    return hours, minutes, remaining_seconds"
   ]
  },
  {
   "cell_type": "code",
   "execution_count": 12,
   "metadata": {},
   "outputs": [
    {
     "name": "stdout",
     "output_type": "stream",
     "text": [
      "(2, 4, 41)\n"
     ]
    }
   ],
   "source": [
    "sec = 7481\n",
    "print(count_hours_minutes_seconds(sec))"
   ]
  },
  {
   "cell_type": "code",
   "execution_count": null,
   "metadata": {},
   "outputs": [],
   "source": []
  }
 ],
 "metadata": {
  "kernelspec": {
   "display_name": "Python 3.7.6 32-bit ('base': conda)",
   "language": "python",
   "name": "python37632bitbasecondaa1eee7eec51f40349b82479978c693a7"
  },
  "language_info": {
   "codemirror_mode": {
    "name": "ipython",
    "version": 3
   },
   "file_extension": ".py",
   "mimetype": "text/x-python",
   "name": "python",
   "nbconvert_exporter": "python",
   "pygments_lexer": "ipython3",
   "version": "3.7.6"
  }
 },
 "nbformat": 4,
 "nbformat_minor": 2
}
